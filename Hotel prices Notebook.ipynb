{
 "cells": [
  {
   "cell_type": "code",
   "execution_count": 11,
   "metadata": {},
   "outputs": [],
   "source": [
    "import pandas as pd\n",
    "import matplotlib.pyplot as plt\n",
    "import seaborn as sns\n",
    "import missingno as msno\n",
    "import warnings\n",
    "warnings.filterwarnings('ignore')"
   ]
  },
  {
   "cell_type": "code",
   "execution_count": 12,
   "metadata": {},
   "outputs": [],
   "source": [
    "file_path = r'C:\\Users\\karti\\Downloads\\Project 1\\archive\\bangalore.csv'\n",
    "df = pd.read_csv(file_path)"
   ]
  },
  {
   "cell_type": "code",
   "execution_count": 13,
   "metadata": {},
   "outputs": [
    {
     "data": {
      "text/html": [
       "<div>\n",
       "<style scoped>\n",
       "    .dataframe tbody tr th:only-of-type {\n",
       "        vertical-align: middle;\n",
       "    }\n",
       "\n",
       "    .dataframe tbody tr th {\n",
       "        vertical-align: top;\n",
       "    }\n",
       "\n",
       "    .dataframe thead th {\n",
       "        text-align: right;\n",
       "    }\n",
       "</style>\n",
       "<table border=\"1\" class=\"dataframe\">\n",
       "  <thead>\n",
       "    <tr style=\"text-align: right;\">\n",
       "      <th></th>\n",
       "      <th>Hotel Name</th>\n",
       "      <th>Rating</th>\n",
       "      <th>Rating Description</th>\n",
       "      <th>Reviews</th>\n",
       "      <th>Star Rating</th>\n",
       "      <th>Location</th>\n",
       "      <th>Nearest Landmark</th>\n",
       "      <th>Distance to Landmark</th>\n",
       "      <th>Price</th>\n",
       "      <th>Tax</th>\n",
       "    </tr>\n",
       "  </thead>\n",
       "  <tbody>\n",
       "    <tr>\n",
       "      <th>0</th>\n",
       "      <td>The Park Bangalore</td>\n",
       "      <td>3.9</td>\n",
       "      <td>Very Good</td>\n",
       "      <td>4187.0</td>\n",
       "      <td>5.0</td>\n",
       "      <td>Ulsoor</td>\n",
       "      <td>NaN</td>\n",
       "      <td>NaN</td>\n",
       "      <td>7,567</td>\n",
       "      <td>2,254</td>\n",
       "    </tr>\n",
       "    <tr>\n",
       "      <th>1</th>\n",
       "      <td>Keys Select by Lemon Tree Hotels, Whitefield, ...</td>\n",
       "      <td>4.0</td>\n",
       "      <td>Very Good</td>\n",
       "      <td>2201.0</td>\n",
       "      <td>4.0</td>\n",
       "      <td>Brookefield</td>\n",
       "      <td>NaN</td>\n",
       "      <td>NaN</td>\n",
       "      <td>1,509</td>\n",
       "      <td>531</td>\n",
       "    </tr>\n",
       "    <tr>\n",
       "      <th>2</th>\n",
       "      <td>ITC Windsor - A Luxury Collection Hotel</td>\n",
       "      <td>4.4</td>\n",
       "      <td>Excellent</td>\n",
       "      <td>1315.0</td>\n",
       "      <td>5.0</td>\n",
       "      <td>Vasanth Nagar</td>\n",
       "      <td>Bangalore Palace</td>\n",
       "      <td>2.4 km</td>\n",
       "      <td>9,900</td>\n",
       "      <td>NaN</td>\n",
       "    </tr>\n",
       "    <tr>\n",
       "      <th>3</th>\n",
       "      <td>Lemon Tree Premier Ulsoor Lake Bangalore</td>\n",
       "      <td>4.0</td>\n",
       "      <td>Very Good</td>\n",
       "      <td>5089.0</td>\n",
       "      <td>5.0</td>\n",
       "      <td>Sivanchetti Gardens</td>\n",
       "      <td>Ulsoor Lake</td>\n",
       "      <td>770 m</td>\n",
       "      <td>2,347</td>\n",
       "      <td>918</td>\n",
       "    </tr>\n",
       "    <tr>\n",
       "      <th>4</th>\n",
       "      <td>Keys Select by Lemon Tree Hotels, Hosur Road, ...</td>\n",
       "      <td>4.0</td>\n",
       "      <td>Very Good</td>\n",
       "      <td>3290.0</td>\n",
       "      <td>4.0</td>\n",
       "      <td>Hosur road</td>\n",
       "      <td>NaN</td>\n",
       "      <td>NaN</td>\n",
       "      <td>2,522</td>\n",
       "      <td>1,014</td>\n",
       "    </tr>\n",
       "  </tbody>\n",
       "</table>\n",
       "</div>"
      ],
      "text/plain": [
       "                                          Hotel Name  Rating  \\\n",
       "0                                 The Park Bangalore     3.9   \n",
       "1  Keys Select by Lemon Tree Hotels, Whitefield, ...     4.0   \n",
       "2            ITC Windsor - A Luxury Collection Hotel     4.4   \n",
       "3           Lemon Tree Premier Ulsoor Lake Bangalore     4.0   \n",
       "4  Keys Select by Lemon Tree Hotels, Hosur Road, ...     4.0   \n",
       "\n",
       "  Rating Description  Reviews  Star Rating              Location  \\\n",
       "0          Very Good   4187.0          5.0                Ulsoor   \n",
       "1          Very Good   2201.0          4.0           Brookefield   \n",
       "2          Excellent   1315.0          5.0        Vasanth Nagar    \n",
       "3          Very Good   5089.0          5.0  Sivanchetti Gardens    \n",
       "4          Very Good   3290.0          4.0            Hosur road   \n",
       "\n",
       "   Nearest Landmark Distance to Landmark  Price    Tax  \n",
       "0               NaN                  NaN  7,567  2,254  \n",
       "1               NaN                  NaN  1,509    531  \n",
       "2  Bangalore Palace              2.4 km   9,900    NaN  \n",
       "3       Ulsoor Lake               770 m   2,347    918  \n",
       "4               NaN                  NaN  2,522  1,014  "
      ]
     },
     "execution_count": 13,
     "metadata": {},
     "output_type": "execute_result"
    }
   ],
   "source": [
    "df.head()"
   ]
  },
  {
   "cell_type": "code",
   "execution_count": 14,
   "metadata": {},
   "outputs": [
    {
     "data": {
      "text/html": [
       "<div>\n",
       "<style scoped>\n",
       "    .dataframe tbody tr th:only-of-type {\n",
       "        vertical-align: middle;\n",
       "    }\n",
       "\n",
       "    .dataframe tbody tr th {\n",
       "        vertical-align: top;\n",
       "    }\n",
       "\n",
       "    .dataframe thead th {\n",
       "        text-align: right;\n",
       "    }\n",
       "</style>\n",
       "<table border=\"1\" class=\"dataframe\">\n",
       "  <thead>\n",
       "    <tr style=\"text-align: right;\">\n",
       "      <th></th>\n",
       "      <th>Hotel Name</th>\n",
       "      <th>Rating</th>\n",
       "      <th>Rating_Description</th>\n",
       "      <th>Reviews</th>\n",
       "      <th>Star_Rating</th>\n",
       "      <th>Location</th>\n",
       "      <th>Nearest_Landmark</th>\n",
       "      <th>Distance_to_Landmark</th>\n",
       "      <th>Price</th>\n",
       "      <th>Tax</th>\n",
       "    </tr>\n",
       "  </thead>\n",
       "  <tbody>\n",
       "    <tr>\n",
       "      <th>0</th>\n",
       "      <td>The Park Bangalore</td>\n",
       "      <td>3.9</td>\n",
       "      <td>Very Good</td>\n",
       "      <td>4187.0</td>\n",
       "      <td>5.0</td>\n",
       "      <td>Ulsoor</td>\n",
       "      <td>NaN</td>\n",
       "      <td>NaN</td>\n",
       "      <td>7,567</td>\n",
       "      <td>2,254</td>\n",
       "    </tr>\n",
       "    <tr>\n",
       "      <th>1</th>\n",
       "      <td>Keys Select by Lemon Tree Hotels, Whitefield, ...</td>\n",
       "      <td>4.0</td>\n",
       "      <td>Very Good</td>\n",
       "      <td>2201.0</td>\n",
       "      <td>4.0</td>\n",
       "      <td>Brookefield</td>\n",
       "      <td>NaN</td>\n",
       "      <td>NaN</td>\n",
       "      <td>1,509</td>\n",
       "      <td>531</td>\n",
       "    </tr>\n",
       "    <tr>\n",
       "      <th>2</th>\n",
       "      <td>ITC Windsor - A Luxury Collection Hotel</td>\n",
       "      <td>4.4</td>\n",
       "      <td>Excellent</td>\n",
       "      <td>1315.0</td>\n",
       "      <td>5.0</td>\n",
       "      <td>Vasanth Nagar</td>\n",
       "      <td>Bangalore Palace</td>\n",
       "      <td>2.4 km</td>\n",
       "      <td>9,900</td>\n",
       "      <td>NaN</td>\n",
       "    </tr>\n",
       "    <tr>\n",
       "      <th>3</th>\n",
       "      <td>Lemon Tree Premier Ulsoor Lake Bangalore</td>\n",
       "      <td>4.0</td>\n",
       "      <td>Very Good</td>\n",
       "      <td>5089.0</td>\n",
       "      <td>5.0</td>\n",
       "      <td>Sivanchetti Gardens</td>\n",
       "      <td>Ulsoor Lake</td>\n",
       "      <td>770 m</td>\n",
       "      <td>2,347</td>\n",
       "      <td>918</td>\n",
       "    </tr>\n",
       "    <tr>\n",
       "      <th>4</th>\n",
       "      <td>Keys Select by Lemon Tree Hotels, Hosur Road, ...</td>\n",
       "      <td>4.0</td>\n",
       "      <td>Very Good</td>\n",
       "      <td>3290.0</td>\n",
       "      <td>4.0</td>\n",
       "      <td>Hosur road</td>\n",
       "      <td>NaN</td>\n",
       "      <td>NaN</td>\n",
       "      <td>2,522</td>\n",
       "      <td>1,014</td>\n",
       "    </tr>\n",
       "  </tbody>\n",
       "</table>\n",
       "</div>"
      ],
      "text/plain": [
       "                                          Hotel Name  Rating  \\\n",
       "0                                 The Park Bangalore     3.9   \n",
       "1  Keys Select by Lemon Tree Hotels, Whitefield, ...     4.0   \n",
       "2            ITC Windsor - A Luxury Collection Hotel     4.4   \n",
       "3           Lemon Tree Premier Ulsoor Lake Bangalore     4.0   \n",
       "4  Keys Select by Lemon Tree Hotels, Hosur Road, ...     4.0   \n",
       "\n",
       "  Rating_Description  Reviews  Star_Rating              Location  \\\n",
       "0          Very Good   4187.0          5.0                Ulsoor   \n",
       "1          Very Good   2201.0          4.0           Brookefield   \n",
       "2          Excellent   1315.0          5.0        Vasanth Nagar    \n",
       "3          Very Good   5089.0          5.0  Sivanchetti Gardens    \n",
       "4          Very Good   3290.0          4.0            Hosur road   \n",
       "\n",
       "   Nearest_Landmark Distance_to_Landmark  Price    Tax  \n",
       "0               NaN                  NaN  7,567  2,254  \n",
       "1               NaN                  NaN  1,509    531  \n",
       "2  Bangalore Palace              2.4 km   9,900    NaN  \n",
       "3       Ulsoor Lake               770 m   2,347    918  \n",
       "4               NaN                  NaN  2,522  1,014  "
      ]
     },
     "execution_count": 14,
     "metadata": {},
     "output_type": "execute_result"
    }
   ],
   "source": [
    "df.rename(columns={'Rating Description' : 'Rating_Description',\n",
    "                   'Star Rating':'Star_Rating',\n",
    "                   'Nearest Landmark':'Nearest_Landmark',\n",
    "                   'Distance to Landmark': 'Distance_to_Landmark'}, inplace = True)\n",
    "df.head()"
   ]
  },
  {
   "cell_type": "code",
   "execution_count": 15,
   "metadata": {},
   "outputs": [
    {
     "data": {
      "text/plain": [
       "<function matplotlib.pyplot.show(close=None, block=None)>"
      ]
     },
     "execution_count": 15,
     "metadata": {},
     "output_type": "execute_result"
    },
    {
     "data": {
      "image/png": "[encoded data removed]",
      "text/plain": [
       "<Figure size 1000x400 with 2 Axes>"
      ]
     },
     "metadata": {},
     "output_type": "display_data"
    }
   ],
   "source": [
    "plt.figure(figsize=(10,4))\n",
    "sns.heatmap(df.isna().transpose(),\n",
    "            cmap=\"YlGnBu\",\n",
    "            cbar_kws= {'label': 'Missing Data'})\n",
    "plt.show"
   ]
  },
  {
   "cell_type": "code",
   "execution_count": 16,
   "metadata": {},
   "outputs": [
    {
     "data": {
      "image/png": "[encoded data removed]",
      "text/plain": [
       "<Figure size 2000x400 with 1 Axes>"
      ]
     },
     "metadata": {},
     "output_type": "display_data"
    }
   ],
   "source": [
    "plt.figure(figsize=(20,4))\n",
    "sns.barplot(df.isna())\n",
    "plt.show()"
   ]
  },
  {
   "cell_type": "code",
   "execution_count": 17,
   "metadata": {},
   "outputs": [],
   "source": [
    "df.Price = df.Price.str.replace(\",\",\"\")\n",
    "df.Price = df.Price.astype(float)\n",
    "\n",
    "df.Tax = df.Tax.str.replace(\",\", \"\").astype(float)"
   ]
  },
  {
   "cell_type": "code",
   "execution_count": 18,
   "metadata": {},
   "outputs": [
    {
     "data": {
      "text/html": [
       "<div>\n",
       "<style scoped>\n",
       "    .dataframe tbody tr th:only-of-type {\n",
       "        vertical-align: middle;\n",
       "    }\n",
       "\n",
       "    .dataframe tbody tr th {\n",
       "        vertical-align: top;\n",
       "    }\n",
       "\n",
       "    .dataframe thead th {\n",
       "        text-align: right;\n",
       "    }\n",
       "</style>\n",
       "<table border=\"1\" class=\"dataframe\">\n",
       "  <thead>\n",
       "    <tr style=\"text-align: right;\">\n",
       "      <th></th>\n",
       "      <th>Hotel Name</th>\n",
       "      <th>Rating</th>\n",
       "      <th>Rating_Description</th>\n",
       "      <th>Reviews</th>\n",
       "      <th>Star_Rating</th>\n",
       "      <th>Location</th>\n",
       "      <th>Nearest_Landmark</th>\n",
       "      <th>Distance_to_Landmark</th>\n",
       "      <th>Price</th>\n",
       "      <th>Tax</th>\n",
       "    </tr>\n",
       "  </thead>\n",
       "  <tbody>\n",
       "    <tr>\n",
       "      <th>0</th>\n",
       "      <td>The Park Bangalore</td>\n",
       "      <td>3.9</td>\n",
       "      <td>Very Good</td>\n",
       "      <td>4187.0</td>\n",
       "      <td>5.0</td>\n",
       "      <td>Ulsoor</td>\n",
       "      <td>NaN</td>\n",
       "      <td>NaN</td>\n",
       "      <td>7567.0</td>\n",
       "      <td>2254.0</td>\n",
       "    </tr>\n",
       "    <tr>\n",
       "      <th>1</th>\n",
       "      <td>Keys Select by Lemon Tree Hotels, Whitefield, ...</td>\n",
       "      <td>4.0</td>\n",
       "      <td>Very Good</td>\n",
       "      <td>2201.0</td>\n",
       "      <td>4.0</td>\n",
       "      <td>Brookefield</td>\n",
       "      <td>NaN</td>\n",
       "      <td>NaN</td>\n",
       "      <td>1509.0</td>\n",
       "      <td>531.0</td>\n",
       "    </tr>\n",
       "    <tr>\n",
       "      <th>2</th>\n",
       "      <td>ITC Windsor - A Luxury Collection Hotel</td>\n",
       "      <td>4.4</td>\n",
       "      <td>Excellent</td>\n",
       "      <td>1315.0</td>\n",
       "      <td>5.0</td>\n",
       "      <td>Vasanth Nagar</td>\n",
       "      <td>Bangalore Palace</td>\n",
       "      <td>2.4 km</td>\n",
       "      <td>9900.0</td>\n",
       "      <td>NaN</td>\n",
       "    </tr>\n",
       "    <tr>\n",
       "      <th>3</th>\n",
       "      <td>Lemon Tree Premier Ulsoor Lake Bangalore</td>\n",
       "      <td>4.0</td>\n",
       "      <td>Very Good</td>\n",
       "      <td>5089.0</td>\n",
       "      <td>5.0</td>\n",
       "      <td>Sivanchetti Gardens</td>\n",
       "      <td>Ulsoor Lake</td>\n",
       "      <td>770 m</td>\n",
       "      <td>2347.0</td>\n",
       "      <td>918.0</td>\n",
       "    </tr>\n",
       "    <tr>\n",
       "      <th>4</th>\n",
       "      <td>Keys Select by Lemon Tree Hotels, Hosur Road, ...</td>\n",
       "      <td>4.0</td>\n",
       "      <td>Very Good</td>\n",
       "      <td>3290.0</td>\n",
       "      <td>4.0</td>\n",
       "      <td>Hosur road</td>\n",
       "      <td>NaN</td>\n",
       "      <td>NaN</td>\n",
       "      <td>2522.0</td>\n",
       "      <td>1014.0</td>\n",
       "    </tr>\n",
       "  </tbody>\n",
       "</table>\n",
       "</div>"
      ],
      "text/plain": [
       "                                          Hotel Name  Rating  \\\n",
       "0                                 The Park Bangalore     3.9   \n",
       "1  Keys Select by Lemon Tree Hotels, Whitefield, ...     4.0   \n",
       "2            ITC Windsor - A Luxury Collection Hotel     4.4   \n",
       "3           Lemon Tree Premier Ulsoor Lake Bangalore     4.0   \n",
       "4  Keys Select by Lemon Tree Hotels, Hosur Road, ...     4.0   \n",
       "\n",
       "  Rating_Description  Reviews  Star_Rating              Location  \\\n",
       "0          Very Good   4187.0          5.0                Ulsoor   \n",
       "1          Very Good   2201.0          4.0           Brookefield   \n",
       "2          Excellent   1315.0          5.0        Vasanth Nagar    \n",
       "3          Very Good   5089.0          5.0  Sivanchetti Gardens    \n",
       "4          Very Good   3290.0          4.0            Hosur road   \n",
       "\n",
       "   Nearest_Landmark Distance_to_Landmark   Price     Tax  \n",
       "0               NaN                  NaN  7567.0  2254.0  \n",
       "1               NaN                  NaN  1509.0   531.0  \n",
       "2  Bangalore Palace              2.4 km   9900.0     NaN  \n",
       "3       Ulsoor Lake               770 m   2347.0   918.0  \n",
       "4               NaN                  NaN  2522.0  1014.0  "
      ]
     },
     "execution_count": 18,
     "metadata": {},
     "output_type": "execute_result"
    }
   ],
   "source": [
    "df.head()"
   ]
  },
  {
   "cell_type": "code",
   "execution_count": 19,
   "metadata": {},
   "outputs": [
    {
     "data": {
      "image/png": "[encoded data removed]",
      "text/plain": [
       "<Figure size 1000x400 with 1 Axes>"
      ]
     },
     "metadata": {},
     "output_type": "display_data"
    }
   ],
   "source": [
    "plt.figure(figsize = (10,4))\n",
    "plt.scatter(df.Price, df.Reviews, c='red')\n",
    "plt.axvspan(0,5000, facecolor = 'b', alpha = 0.3)\n",
    "plt.axvspan(10000, 15000, facecolor = 'b', alpha = 0.8)\n",
    "plt.xlim(0,26000)\n",
    "plt.show()"
   ]
  },
  {
   "cell_type": "code",
   "execution_count": 20,
   "metadata": {},
   "outputs": [
    {
     "data": {
      "text/plain": [
       "<bound method Series.unique of 0                   Ulsoor\n",
       "3     Sivanchetti Gardens \n",
       "4               Hosur road\n",
       "5             Ashok Nagar \n",
       "30           Domlur Layout\n",
       "46                 Ulsoor \n",
       "Name: Location, dtype: object>"
      ]
     },
     "execution_count": 20,
     "metadata": {},
     "output_type": "execute_result"
    }
   ],
   "source": [
    "df.Location[df.Reviews > 3000].unique"
   ]
  }
 ],
 "metadata": {
  "kernelspec": {
   "display_name": "Python 3",
   "language": "python",
   "name": "python3"
  },
  "language_info": {
   "codemirror_mode": {
    "name": "ipython",
    "version": 3
   },
   "file_extension": ".py",
   "mimetype": "text/x-python",
   "name": "python",
   "nbconvert_exporter": "python",
   "pygments_lexer": "ipython3",
   "version": "3.11.4"
  },
  "orig_nbformat": 4
 },
 "nbformat": 4,
 "nbformat_minor": 2
}
